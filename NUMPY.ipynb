{
 "cells": [
  {
   "cell_type": "code",
   "execution_count": 17,
   "id": "a819b3bb",
   "metadata": {},
   "outputs": [
    {
     "name": "stdout",
     "output_type": "stream",
     "text": [
      "Requirement already satisfied: numpy in c:\\users\\dell\\miniconda3\\lib\\site-packages (1.20.3)\n"
     ]
    }
   ],
   "source": [
    "!pip install numpy"
   ]
  },
  {
   "cell_type": "code",
   "execution_count": 18,
   "id": "16f0ecb3",
   "metadata": {},
   "outputs": [],
   "source": [
    "import numpy as np"
   ]
  },
  {
   "cell_type": "code",
   "execution_count": 19,
   "id": "7f8c6648",
   "metadata": {},
   "outputs": [
    {
     "data": {
      "text/plain": [
       "array([1, 2, 3])"
      ]
     },
     "execution_count": 19,
     "metadata": {},
     "output_type": "execute_result"
    }
   ],
   "source": [
    "num_array = np.array([1, 2, 3])\n",
    "num_array"
   ]
  },
  {
   "cell_type": "markdown",
   "id": "720fcf55",
   "metadata": {},
   "source": [
    "# Step 1: Mutable"
   ]
  },
  {
   "cell_type": "code",
   "execution_count": 21,
   "id": "0582e963",
   "metadata": {},
   "outputs": [
    {
     "data": {
      "text/plain": [
       "array([1, 2, 3, 6, 5])"
      ]
     },
     "execution_count": 21,
     "metadata": {},
     "output_type": "execute_result"
    }
   ],
   "source": [
    "np.append(num_array, [6,5])"
   ]
  },
  {
   "cell_type": "code",
   "execution_count": 22,
   "id": "a9a20bdc",
   "metadata": {},
   "outputs": [
    {
     "data": {
      "text/plain": [
       "array([1, 2])"
      ]
     },
     "execution_count": 22,
     "metadata": {},
     "output_type": "execute_result"
    }
   ],
   "source": [
    "np.delete(num_array, [2])"
   ]
  },
  {
   "cell_type": "code",
   "execution_count": 23,
   "id": "1e447c75",
   "metadata": {},
   "outputs": [],
   "source": [
    "## Step 3: Can be indexed"
   ]
  },
  {
   "cell_type": "code",
   "execution_count": 24,
   "id": "83b00142",
   "metadata": {},
   "outputs": [
    {
     "data": {
      "text/plain": [
       "3"
      ]
     },
     "execution_count": 24,
     "metadata": {},
     "output_type": "execute_result"
    }
   ],
   "source": [
    "num_array[2]"
   ]
  },
  {
   "cell_type": "code",
   "execution_count": 25,
   "id": "4c052f6b",
   "metadata": {},
   "outputs": [],
   "source": [
    "## Step operation"
   ]
  },
  {
   "cell_type": "code",
   "execution_count": 26,
   "id": "e4a6acb2",
   "metadata": {},
   "outputs": [
    {
     "data": {
      "text/plain": [
       "array([2, 3])"
      ]
     },
     "execution_count": 26,
     "metadata": {},
     "output_type": "execute_result"
    }
   ],
   "source": [
    "num_array[1:3]"
   ]
  },
  {
   "cell_type": "markdown",
   "id": "66ed4ecd",
   "metadata": {},
   "source": [
    "# Difference\n",
    "## Numpy ma multiple garna sakxa array ma sakdaina"
   ]
  },
  {
   "cell_type": "code",
   "execution_count": 28,
   "id": "8aa343b4",
   "metadata": {},
   "outputs": [
    {
     "data": {
      "text/plain": [
       "array([1. , 2. , 3.5])"
      ]
     },
     "execution_count": 28,
     "metadata": {},
     "output_type": "execute_result"
    }
   ],
   "source": [
    "num_array = np.array([1, 2, 3.5])\n",
    "num_array"
   ]
  },
  {
   "cell_type": "code",
   "execution_count": 29,
   "id": "0c849a94",
   "metadata": {},
   "outputs": [
    {
     "data": {
      "text/plain": [
       "array([0.5 , 1.  , 1.75])"
      ]
     },
     "execution_count": 29,
     "metadata": {},
     "output_type": "execute_result"
    }
   ],
   "source": [
    "num_array / 2"
   ]
  },
  {
   "cell_type": "code",
   "execution_count": 32,
   "id": "9e1ea8b0",
   "metadata": {},
   "outputs": [
    {
     "data": {
      "text/plain": [
       "array([[1. , 2. , 3.5],\n",
       "       [5. , 6. , 7. ]])"
      ]
     },
     "execution_count": 32,
     "metadata": {},
     "output_type": "execute_result"
    }
   ],
   "source": [
    "num_array = np.array([[1, 2, 3.5], [5, 6, 7]])\n",
    "num_array"
   ]
  },
  {
   "cell_type": "code",
   "execution_count": 33,
   "id": "c119b24b",
   "metadata": {},
   "outputs": [
    {
     "data": {
      "text/plain": [
       "2"
      ]
     },
     "execution_count": 33,
     "metadata": {},
     "output_type": "execute_result"
    }
   ],
   "source": [
    "np.ndim(num_array)"
   ]
  },
  {
   "cell_type": "code",
   "execution_count": null,
   "id": "a14fa6cf",
   "metadata": {},
   "outputs": [],
   "source": [
    "! pip install numpy\n",
    "import import as np"
   ]
  }
 ],
 "metadata": {
  "kernelspec": {
   "display_name": "Python 3",
   "language": "python",
   "name": "python3"
  },
  "language_info": {
   "codemirror_mode": {
    "name": "ipython",
    "version": 3
   },
   "file_extension": ".py",
   "mimetype": "text/x-python",
   "name": "python",
   "nbconvert_exporter": "python",
   "pygments_lexer": "ipython3",
   "version": "3.9.1"
  }
 },
 "nbformat": 4,
 "nbformat_minor": 5
}
