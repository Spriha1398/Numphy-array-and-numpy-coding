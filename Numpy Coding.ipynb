{
 "cells": [
  {
   "cell_type": "code",
   "execution_count": 73,
   "id": "153fa3c2",
   "metadata": {},
   "outputs": [],
   "source": [
    "# !pip install numpy"
   ]
  },
  {
   "cell_type": "code",
   "execution_count": 74,
   "id": "9d8edb44",
   "metadata": {},
   "outputs": [],
   "source": [
    "import numpy as np"
   ]
  },
  {
   "cell_type": "code",
   "execution_count": 75,
   "id": "ea5901ee",
   "metadata": {},
   "outputs": [],
   "source": [
    "# 1D Dimensional Array"
   ]
  },
  {
   "cell_type": "code",
   "execution_count": 76,
   "id": "992282db",
   "metadata": {},
   "outputs": [],
   "source": [
    "num_array = np.array([1, 2, 3])"
   ]
  },
  {
   "cell_type": "code",
   "execution_count": 77,
   "id": "84ebb225",
   "metadata": {},
   "outputs": [
    {
     "data": {
      "text/plain": [
       "1"
      ]
     },
     "execution_count": 77,
     "metadata": {},
     "output_type": "execute_result"
    }
   ],
   "source": [
    "np.ndim(num_array)"
   ]
  },
  {
   "cell_type": "code",
   "execution_count": 78,
   "id": "4f829169",
   "metadata": {},
   "outputs": [
    {
     "data": {
      "text/plain": [
       "(3,)"
      ]
     },
     "execution_count": 78,
     "metadata": {},
     "output_type": "execute_result"
    }
   ],
   "source": [
    "np.shape(num_array)"
   ]
  },
  {
   "cell_type": "code",
   "execution_count": 79,
   "id": "73e0de3e",
   "metadata": {},
   "outputs": [],
   "source": [
    "## Two dimensional Array"
   ]
  },
  {
   "cell_type": "code",
   "execution_count": 80,
   "id": "33dcda0f",
   "metadata": {},
   "outputs": [],
   "source": [
    "two_d = np.array([[1,2,3], [4,5,6]])"
   ]
  },
  {
   "cell_type": "code",
   "execution_count": 81,
   "id": "e49ff5c7",
   "metadata": {},
   "outputs": [
    {
     "data": {
      "text/plain": [
       "2"
      ]
     },
     "execution_count": 81,
     "metadata": {},
     "output_type": "execute_result"
    }
   ],
   "source": [
    "np.ndim(two_d)"
   ]
  },
  {
   "cell_type": "code",
   "execution_count": 82,
   "id": "60b78ea7",
   "metadata": {},
   "outputs": [
    {
     "data": {
      "text/plain": [
       "(2, 3)"
      ]
     },
     "execution_count": 82,
     "metadata": {},
     "output_type": "execute_result"
    }
   ],
   "source": [
    "np.shape(two_d)"
   ]
  },
  {
   "cell_type": "code",
   "execution_count": 83,
   "id": "a8368747",
   "metadata": {},
   "outputs": [],
   "source": [
    "## Three dimensional Arrat"
   ]
  },
  {
   "cell_type": "code",
   "execution_count": 84,
   "id": "c86e9f0d",
   "metadata": {},
   "outputs": [],
   "source": [
    "three_d = np.array([[[2,3],[4,6]],[[2,3],[4,6]]])"
   ]
  },
  {
   "cell_type": "code",
   "execution_count": 85,
   "id": "a0cf0553",
   "metadata": {},
   "outputs": [
    {
     "data": {
      "text/plain": [
       "3"
      ]
     },
     "execution_count": 85,
     "metadata": {},
     "output_type": "execute_result"
    }
   ],
   "source": [
    "np.ndim(three_d)"
   ]
  },
  {
   "cell_type": "code",
   "execution_count": 86,
   "id": "8196b463",
   "metadata": {},
   "outputs": [
    {
     "data": {
      "text/plain": [
       "(2, 2, 2)"
      ]
     },
     "execution_count": 86,
     "metadata": {},
     "output_type": "execute_result"
    }
   ],
   "source": [
    "np.shape(three_d)"
   ]
  },
  {
   "cell_type": "markdown",
   "id": "0728a70a",
   "metadata": {},
   "source": [
    "# Array multiplication"
   ]
  },
  {
   "cell_type": "code",
   "execution_count": 87,
   "id": "cfccb2b5",
   "metadata": {},
   "outputs": [],
   "source": [
    "arr_01 = np.array([ [1,2], [3,4] ])\n",
    "arr_02 = np.array([ [5,6], [7,8] ])"
   ]
  },
  {
   "cell_type": "code",
   "execution_count": 88,
   "id": "a7c4dadf",
   "metadata": {},
   "outputs": [
    {
     "data": {
      "text/plain": [
       "array([[19, 22],\n",
       "       [43, 50]])"
      ]
     },
     "execution_count": 88,
     "metadata": {},
     "output_type": "execute_result"
    }
   ],
   "source": [
    "mat_mul = np.dot(arr_01, arr_02)\n",
    "mat_mul"
   ]
  },
  {
   "cell_type": "code",
   "execution_count": 89,
   "id": "79ab5aeb",
   "metadata": {},
   "outputs": [
    {
     "data": {
      "text/plain": [
       "array([[19, 22],\n",
       "       [43, 50]])"
      ]
     },
     "execution_count": 89,
     "metadata": {},
     "output_type": "execute_result"
    }
   ],
   "source": [
    "arr_01 @ arr_02  ##dot function"
   ]
  },
  {
   "cell_type": "code",
   "execution_count": 90,
   "id": "8f0449b4",
   "metadata": {},
   "outputs": [
    {
     "data": {
      "text/plain": [
       "array([[ 5, 12],\n",
       "       [21, 32]])"
      ]
     },
     "execution_count": 90,
     "metadata": {},
     "output_type": "execute_result"
    }
   ],
   "source": [
    "arr_01 *arr_02 ## multiplication"
   ]
  },
  {
   "cell_type": "code",
   "execution_count": 91,
   "id": "5a9d730f",
   "metadata": {},
   "outputs": [],
   "source": [
    "## Addition ans Substraction"
   ]
  },
  {
   "cell_type": "code",
   "execution_count": 96,
   "id": "c6a49e98",
   "metadata": {},
   "outputs": [],
   "source": [
    "arr_03 = np.array([[1,2],[3,4]])\n",
    "arr_04 = np.array([[5,6],[7,8]])"
   ]
  },
  {
   "cell_type": "code",
   "execution_count": 97,
   "id": "6ac59a7e",
   "metadata": {},
   "outputs": [
    {
     "data": {
      "text/plain": [
       "array([[ 6,  8],\n",
       "       [10, 12]])"
      ]
     },
     "execution_count": 97,
     "metadata": {},
     "output_type": "execute_result"
    }
   ],
   "source": [
    "add_ele = np.add(arr_03, arr_04)\n",
    "add_ele"
   ]
  },
  {
   "cell_type": "code",
   "execution_count": 98,
   "id": "31aa8a36",
   "metadata": {},
   "outputs": [
    {
     "data": {
      "text/plain": [
       "10"
      ]
     },
     "execution_count": 98,
     "metadata": {},
     "output_type": "execute_result"
    }
   ],
   "source": [
    "ele = np.sum(arr_03)\n",
    "ele"
   ]
  },
  {
   "cell_type": "code",
   "execution_count": 99,
   "id": "faa1fdb7",
   "metadata": {},
   "outputs": [
    {
     "data": {
      "text/plain": [
       "array([[-4, -4],\n",
       "       [-4, -4]])"
      ]
     },
     "execution_count": 99,
     "metadata": {},
     "output_type": "execute_result"
    }
   ],
   "source": [
    "subs = np.subtract(arr_03, arr_04)\n",
    "subs"
   ]
  },
  {
   "cell_type": "code",
   "execution_count": 100,
   "id": "2b0d0395",
   "metadata": {},
   "outputs": [
    {
     "data": {
      "text/plain": [
       "array([[0.2       , 0.33333333],\n",
       "       [0.42857143, 0.5       ]])"
      ]
     },
     "execution_count": 100,
     "metadata": {},
     "output_type": "execute_result"
    }
   ],
   "source": [
    "div = np.divide(arr_03, arr_04)\n",
    "div ## float ma ans aauxa"
   ]
  },
  {
   "cell_type": "code",
   "execution_count": 101,
   "id": "d64942f7",
   "metadata": {},
   "outputs": [
    {
     "data": {
      "text/plain": [
       "array([[0.5, 1. ],\n",
       "       [1.5, 2. ]])"
      ]
     },
     "execution_count": 101,
     "metadata": {},
     "output_type": "execute_result"
    }
   ],
   "source": [
    "mat_div = np.divide(arr_03, 2)\n",
    "mat_div ## Float ma ans aauxa"
   ]
  },
  {
   "cell_type": "code",
   "execution_count": 102,
   "id": "253c4f2a",
   "metadata": {},
   "outputs": [
    {
     "data": {
      "text/plain": [
       "array([[0, 1],\n",
       "       [1, 2]])"
      ]
     },
     "execution_count": 102,
     "metadata": {},
     "output_type": "execute_result"
    }
   ],
   "source": [
    "mat_div = np.divide(arr_03, 2).astype('int')\n",
    "mat_div # int ma aauni"
   ]
  },
  {
   "cell_type": "markdown",
   "id": "a82855ee",
   "metadata": {},
   "source": [
    "# Broadcasting"
   ]
  },
  {
   "cell_type": "code",
   "execution_count": 105,
   "id": "86a20927",
   "metadata": {},
   "outputs": [],
   "source": [
    "arr_08 = np.array([[1,2],[3,4]])"
   ]
  },
  {
   "cell_type": "code",
   "execution_count": 106,
   "id": "bf7a96bb",
   "metadata": {},
   "outputs": [
    {
     "data": {
      "text/plain": [
       "(2, 2)"
      ]
     },
     "execution_count": 106,
     "metadata": {},
     "output_type": "execute_result"
    }
   ],
   "source": [
    "arr_08.shape"
   ]
  },
  {
   "cell_type": "code",
   "execution_count": 108,
   "id": "15a1d0a2",
   "metadata": {},
   "outputs": [
    {
     "data": {
      "text/plain": [
       "array([[4, 5],\n",
       "       [6, 7]])"
      ]
     },
     "execution_count": 108,
     "metadata": {},
     "output_type": "execute_result"
    }
   ],
   "source": [
    "arr_08 + 3"
   ]
  },
  {
   "cell_type": "code",
   "execution_count": 109,
   "id": "d1874edd",
   "metadata": {},
   "outputs": [],
   "source": [
    "arr_09 = np.array([[1,2,3],[4,5,6]])"
   ]
  },
  {
   "cell_type": "code",
   "execution_count": 111,
   "id": "1baae7b4",
   "metadata": {},
   "outputs": [
    {
     "data": {
      "text/plain": [
       "array([[11, 13, 15],\n",
       "       [14, 16, 18]])"
      ]
     },
     "execution_count": 111,
     "metadata": {},
     "output_type": "execute_result"
    }
   ],
   "source": [
    "arr_09 + np.array([10,11,12])"
   ]
  },
  {
   "cell_type": "code",
   "execution_count": 112,
   "id": "d4dbda32",
   "metadata": {},
   "outputs": [
    {
     "data": {
      "text/plain": [
       "array([1, 2, 3])"
      ]
     },
     "execution_count": 112,
     "metadata": {},
     "output_type": "execute_result"
    }
   ],
   "source": [
    "num_array = np.array([1,2,3])\n",
    "num_array"
   ]
  },
  {
   "cell_type": "code",
   "execution_count": 113,
   "id": "297dee3c",
   "metadata": {},
   "outputs": [],
   "source": []
  },
  {
   "cell_type": "code",
   "execution_count": null,
   "id": "ca2d5ac0",
   "metadata": {},
   "outputs": [],
   "source": []
  }
 ],
 "metadata": {
  "kernelspec": {
   "display_name": "Python 3",
   "language": "python",
   "name": "python3"
  },
  "language_info": {
   "codemirror_mode": {
    "name": "ipython",
    "version": 3
   },
   "file_extension": ".py",
   "mimetype": "text/x-python",
   "name": "python",
   "nbconvert_exporter": "python",
   "pygments_lexer": "ipython3",
   "version": "3.9.1"
  }
 },
 "nbformat": 4,
 "nbformat_minor": 5
}
